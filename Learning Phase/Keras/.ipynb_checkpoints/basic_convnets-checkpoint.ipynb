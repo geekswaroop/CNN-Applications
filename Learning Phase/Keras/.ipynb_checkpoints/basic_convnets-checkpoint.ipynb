{
 "cells": [
  {
   "cell_type": "code",
   "execution_count": 1,
   "metadata": {},
   "outputs": [
    {
     "name": "stderr",
     "output_type": "stream",
     "text": [
      "/home/krishna/.local/lib/python3.5/site-packages/h5py/__init__.py:34: FutureWarning: Conversion of the second argument of issubdtype from `float` to `np.floating` is deprecated. In future, it will be treated as `np.float64 == np.dtype(float).type`.\n",
      "  from ._conv import register_converters as _register_converters\n",
      "Using TensorFlow backend.\n",
      "WARNING: Logging before flag parsing goes to stderr.\n",
      "W0904 18:40:13.177968 140138209736448 deprecation_wrapper.py:119] From /home/krishna/.local/lib/python3.5/site-packages/keras/backend/tensorflow_backend.py:58: The name tf.get_default_graph is deprecated. Please use tf.compat.v1.get_default_graph instead.\n",
      "\n",
      "W0904 18:40:13.179401 140138209736448 deprecation_wrapper.py:119] From /home/krishna/.local/lib/python3.5/site-packages/keras/backend/tensorflow_backend.py:442: The name tf.placeholder is deprecated. Please use tf.compat.v1.placeholder instead.\n",
      "\n",
      "W0904 18:40:13.181209 140138209736448 deprecation_wrapper.py:119] From /home/krishna/.local/lib/python3.5/site-packages/keras/backend/tensorflow_backend.py:3543: The name tf.random_uniform is deprecated. Please use tf.random.uniform instead.\n",
      "\n",
      "W0904 18:40:13.207024 140138209736448 deprecation_wrapper.py:119] From /home/krishna/.local/lib/python3.5/site-packages/keras/backend/tensorflow_backend.py:3386: The name tf.nn.max_pool is deprecated. Please use tf.nn.max_pool2d instead.\n",
      "\n",
      "W0904 18:40:13.264766 140138209736448 deprecation.py:506] From /home/krishna/.local/lib/python3.5/site-packages/keras/backend/tensorflow_backend.py:1205: calling reduce_prod_v1 (from tensorflow.python.ops.math_ops) with keep_dims is deprecated and will be removed in a future version.\n",
      "Instructions for updating:\n",
      "keep_dims is deprecated, use keepdims instead\n"
     ]
    }
   ],
   "source": [
    "from keras import layers\n",
    "from keras import models\n",
    "\n",
    "model = models.Sequential()\n",
    "model.add(layers.Conv2D(32, (3, 3), activation='relu',\n",
    "                        input_shape=(150, 150, 3)))\n",
    "model.add(layers.MaxPooling2D((2, 2)))\n",
    "model.add(layers.Conv2D(64, (3, 3), activation='relu'))\n",
    "model.add(layers.MaxPooling2D((2, 2)))\n",
    "model.add(layers.Conv2D(128, (3, 3), activation='relu'))\n",
    "model.add(layers.MaxPooling2D((2, 2)))\n",
    "model.add(layers.Conv2D(128, (3, 3), activation='relu'))\n",
    "model.add(layers.MaxPooling2D((2, 2)))\n",
    "model.add(layers.Flatten())\n",
    "model.add(layers.Dense(512, activation='relu'))\n",
    "model.add(layers.Dense(1, activation='sigmoid'))"
   ]
  },
  {
   "cell_type": "code",
   "execution_count": 2,
   "metadata": {},
   "outputs": [
    {
     "name": "stdout",
     "output_type": "stream",
     "text": [
      "_________________________________________________________________\n",
      "Layer (type)                 Output Shape              Param #   \n",
      "=================================================================\n",
      "conv2d_1 (Conv2D)            (None, 148, 148, 32)      896       \n",
      "_________________________________________________________________\n",
      "max_pooling2d_1 (MaxPooling2 (None, 74, 74, 32)        0         \n",
      "_________________________________________________________________\n",
      "conv2d_2 (Conv2D)            (None, 72, 72, 64)        18496     \n",
      "_________________________________________________________________\n",
      "max_pooling2d_2 (MaxPooling2 (None, 36, 36, 64)        0         \n",
      "_________________________________________________________________\n",
      "conv2d_3 (Conv2D)            (None, 34, 34, 128)       73856     \n",
      "_________________________________________________________________\n",
      "max_pooling2d_3 (MaxPooling2 (None, 17, 17, 128)       0         \n",
      "_________________________________________________________________\n",
      "conv2d_4 (Conv2D)            (None, 15, 15, 128)       147584    \n",
      "_________________________________________________________________\n",
      "max_pooling2d_4 (MaxPooling2 (None, 7, 7, 128)         0         \n",
      "_________________________________________________________________\n",
      "flatten_1 (Flatten)          (None, 6272)              0         \n",
      "_________________________________________________________________\n",
      "dense_1 (Dense)              (None, 512)               3211776   \n",
      "_________________________________________________________________\n",
      "dense_2 (Dense)              (None, 1)                 513       \n",
      "=================================================================\n",
      "Total params: 3,453,121\n",
      "Trainable params: 3,453,121\n",
      "Non-trainable params: 0\n",
      "_________________________________________________________________\n"
     ]
    }
   ],
   "source": [
    "model.summary()\n"
   ]
  },
  {
   "cell_type": "code",
   "execution_count": 3,
   "metadata": {},
   "outputs": [
    {
     "name": "stderr",
     "output_type": "stream",
     "text": [
      "W0904 18:40:13.430911 140138209736448 deprecation_wrapper.py:119] From /home/krishna/.local/lib/python3.5/site-packages/keras/optimizers.py:711: The name tf.train.Optimizer is deprecated. Please use tf.compat.v1.train.Optimizer instead.\n",
      "\n",
      "W0904 18:40:13.443318 140138209736448 deprecation_wrapper.py:119] From /home/krishna/.local/lib/python3.5/site-packages/keras/backend/tensorflow_backend.py:2819: The name tf.log is deprecated. Please use tf.math.log instead.\n",
      "\n",
      "W0904 18:40:13.452798 140138209736448 deprecation.py:323] From /home/krishna/.local/lib/python3.5/site-packages/tensorflow/python/ops/nn_impl.py:180: add_dispatch_support.<locals>.wrapper (from tensorflow.python.ops.array_ops) is deprecated and will be removed in a future version.\n",
      "Instructions for updating:\n",
      "Use tf.where in 2.0, which has the same broadcast rule as np.where\n"
     ]
    }
   ],
   "source": [
    "from keras import optimizers\n",
    "\n",
    "model.compile(loss='binary_crossentropy',\n",
    "              optimizer=optimizers.RMSprop(lr=1e-4),\n",
    "              metrics=['acc'])"
   ]
  },
  {
   "cell_type": "code",
   "execution_count": 4,
   "metadata": {},
   "outputs": [
    {
     "name": "stdout",
     "output_type": "stream",
     "text": [
      "Found 2000 images belonging to 2 classes.\n",
      "Found 1000 images belonging to 2 classes.\n"
     ]
    }
   ],
   "source": [
    "train_dir = '/home/krishna/Coding/cats_and_dogs_small/train'\n",
    "validation_dir = '/home/krishna/Coding/cats_and_dogs_small/validation' \n",
    "from keras.preprocessing.image import ImageDataGenerator\n",
    "\n",
    "# All images will be rescaled by 1./255\n",
    "train_datagen = ImageDataGenerator(rescale=1./255)\n",
    "test_datagen = ImageDataGenerator(rescale=1./255)\n",
    "\n",
    "train_generator = train_datagen.flow_from_directory(\n",
    "        # This is the target directory\n",
    "        train_dir,\n",
    "        # All images will be resized to 150x150\n",
    "        target_size=(150, 150),\n",
    "        batch_size=20,\n",
    "        # Since we use binary_crossentropy loss, we need binary labels\n",
    "        class_mode='binary')\n",
    "\n",
    "validation_generator = test_datagen.flow_from_directory(\n",
    "        validation_dir,\n",
    "        target_size=(150, 150),\n",
    "        batch_size=20,\n",
    "        class_mode='binary')"
   ]
  },
  {
   "cell_type": "code",
   "execution_count": 5,
   "metadata": {},
   "outputs": [
    {
     "name": "stdout",
     "output_type": "stream",
     "text": [
      "data batch shape: (20, 150, 150, 3)\n",
      "labels batch shape: (20,)\n"
     ]
    }
   ],
   "source": [
    "for data_batch, labels_batch in train_generator:\n",
    "    print('data batch shape:', data_batch.shape)\n",
    "    print('labels batch shape:', labels_batch.shape)\n",
    "    break"
   ]
  },
  {
   "cell_type": "code",
   "execution_count": 6,
   "metadata": {},
   "outputs": [
    {
     "name": "stderr",
     "output_type": "stream",
     "text": [
      "W0904 18:40:21.342846 140138209736448 deprecation.py:506] From /home/krishna/.local/lib/python3.5/site-packages/keras/backend/tensorflow_backend.py:625: calling Constant.__init__ (from tensorflow.python.ops.init_ops) with dtype is deprecated and will be removed in a future version.\n",
      "Instructions for updating:\n",
      "Call initializer instance with the dtype argument instead of passing it to the constructor\n",
      "W0904 18:40:21.460727 140138209736448 deprecation_wrapper.py:119] From /home/krishna/.local/lib/python3.5/site-packages/keras/backend/tensorflow_backend.py:899: The name tf.assign_add is deprecated. Please use tf.compat.v1.assign_add instead.\n",
      "\n"
     ]
    },
    {
     "name": "stdout",
     "output_type": "stream",
     "text": [
      "Epoch 1/30\n",
      "100/100 [==============================] - 41s - loss: 0.6855 - acc: 0.5475 - val_loss: 0.6628 - val_acc: 0.5860\n",
      "Epoch 2/30\n",
      "100/100 [==============================] - 38s - loss: 0.6544 - acc: 0.6120 - val_loss: 0.6442 - val_acc: 0.6160\n",
      "Epoch 3/30\n",
      "100/100 [==============================] - 38s - loss: 0.6101 - acc: 0.6660 - val_loss: 0.6590 - val_acc: 0.6060\n",
      "Epoch 4/30\n",
      "100/100 [==============================] - 38s - loss: 0.5751 - acc: 0.6880 - val_loss: 0.5976 - val_acc: 0.6630\n",
      "Epoch 5/30\n",
      "100/100 [==============================] - 39s - loss: 0.5453 - acc: 0.7285 - val_loss: 0.6032 - val_acc: 0.6650\n",
      "Epoch 6/30\n",
      "100/100 [==============================] - 38s - loss: 0.5188 - acc: 0.7405 - val_loss: 0.6646 - val_acc: 0.6420\n",
      "Epoch 7/30\n",
      "100/100 [==============================] - 38s - loss: 0.4915 - acc: 0.7675 - val_loss: 0.5720 - val_acc: 0.6830\n",
      "Epoch 8/30\n",
      "100/100 [==============================] - 38s - loss: 0.4616 - acc: 0.7810 - val_loss: 0.5433 - val_acc: 0.7240\n",
      "Epoch 9/30\n",
      "100/100 [==============================] - 38s - loss: 0.4339 - acc: 0.7960 - val_loss: 0.6397 - val_acc: 0.6540\n",
      "Epoch 10/30\n",
      "100/100 [==============================] - 38s - loss: 0.4067 - acc: 0.8130 - val_loss: 0.5247 - val_acc: 0.7540\n",
      "Epoch 11/30\n",
      "100/100 [==============================] - 38s - loss: 0.3862 - acc: 0.8260 - val_loss: 0.5407 - val_acc: 0.7330\n",
      "Epoch 12/30\n",
      "100/100 [==============================] - 41s - loss: 0.3630 - acc: 0.8400 - val_loss: 0.5655 - val_acc: 0.7220\n",
      "Epoch 13/30\n",
      "100/100 [==============================] - 37s - loss: 0.3447 - acc: 0.8490 - val_loss: 0.5400 - val_acc: 0.7300\n",
      "Epoch 14/30\n",
      "100/100 [==============================] - 37s - loss: 0.3211 - acc: 0.8650 - val_loss: 0.6009 - val_acc: 0.7210\n",
      "Epoch 15/30\n",
      "100/100 [==============================] - 37s - loss: 0.3020 - acc: 0.8720 - val_loss: 0.5958 - val_acc: 0.7410\n",
      "Epoch 16/30\n",
      "100/100 [==============================] - 37s - loss: 0.2713 - acc: 0.8915 - val_loss: 0.6939 - val_acc: 0.7200\n",
      "Epoch 17/30\n",
      "100/100 [==============================] - 37s - loss: 0.2577 - acc: 0.8935 - val_loss: 0.5798 - val_acc: 0.7410\n",
      "Epoch 18/30\n",
      "100/100 [==============================] - 37s - loss: 0.2331 - acc: 0.9150 - val_loss: 0.6189 - val_acc: 0.7490\n",
      "Epoch 19/30\n",
      "100/100 [==============================] - 37s - loss: 0.2096 - acc: 0.9270 - val_loss: 0.6282 - val_acc: 0.7480\n",
      "Epoch 20/30\n",
      "100/100 [==============================] - 37s - loss: 0.1917 - acc: 0.9305 - val_loss: 0.8637 - val_acc: 0.7020\n",
      "Epoch 21/30\n",
      "100/100 [==============================] - 37s - loss: 0.1774 - acc: 0.9365 - val_loss: 0.6410 - val_acc: 0.7540\n",
      "Epoch 22/30\n",
      "100/100 [==============================] - 37s - loss: 0.1568 - acc: 0.9425 - val_loss: 0.6792 - val_acc: 0.7420\n",
      "Epoch 23/30\n",
      "100/100 [==============================] - 37s - loss: 0.1492 - acc: 0.9480 - val_loss: 1.0250 - val_acc: 0.6760\n",
      "Epoch 24/30\n",
      "100/100 [==============================] - 37s - loss: 0.1300 - acc: 0.9565 - val_loss: 0.7975 - val_acc: 0.7260\n",
      "Epoch 25/30\n",
      "100/100 [==============================] - 37s - loss: 0.1078 - acc: 0.9690 - val_loss: 0.7922 - val_acc: 0.7300\n",
      "Epoch 26/30\n",
      "100/100 [==============================] - 37s - loss: 0.0936 - acc: 0.9695 - val_loss: 0.8281 - val_acc: 0.7450\n",
      "Epoch 27/30\n",
      "100/100 [==============================] - 37s - loss: 0.0850 - acc: 0.9725 - val_loss: 0.8332 - val_acc: 0.7510\n",
      "Epoch 28/30\n",
      "100/100 [==============================] - 37s - loss: 0.0745 - acc: 0.9760 - val_loss: 0.8627 - val_acc: 0.7390\n",
      "Epoch 29/30\n",
      "100/100 [==============================] - 37s - loss: 0.0702 - acc: 0.9830 - val_loss: 1.0432 - val_acc: 0.7190\n",
      "Epoch 30/30\n",
      "100/100 [==============================] - 37s - loss: 0.0588 - acc: 0.9830 - val_loss: 0.9274 - val_acc: 0.7610\n"
     ]
    }
   ],
   "source": [
    "\n",
    "history = model.fit_generator(\n",
    "      train_generator,\n",
    "      steps_per_epoch=100,\n",
    "      epochs=30,\n",
    "      validation_data=validation_generator,\n",
    "      validation_steps=50)"
   ]
  },
  {
   "cell_type": "code",
   "execution_count": 7,
   "metadata": {},
   "outputs": [],
   "source": [
    "model.save('cats_and_dogs_small_1.h5')\n"
   ]
  },
  {
   "cell_type": "code",
   "execution_count": 10,
   "metadata": {},
   "outputs": [
    {
     "name": "stdout",
     "output_type": "stream",
     "text": [
      "31\n",
      "range(1, 31)\n"
     ]
    },
    {
     "data": {
      "image/png": "[encoded data removed]",
      "text/plain": [
       "<Figure size 432x288 with 1 Axes>"
      ]
     },
     "metadata": {
      "needs_background": "light"
     },
     "output_type": "display_data"
    },
    {
     "data": {
      "image/png": "[encoded data removed]",
      "text/plain": [
       "<Figure size 432x288 with 1 Axes>"
      ]
     },
     "metadata": {
      "needs_background": "light"
     },
     "output_type": "display_data"
    }
   ],
   "source": [
    "import matplotlib.pyplot as plt\n",
    "%matplotlib inline\n",
    "\n",
    "acc = history.history['acc']\n",
    "val_acc = history.history['val_acc']\n",
    "loss = history.history['loss']\n",
    "val_loss = history.history['val_loss']\n",
    "\n",
    "epochs = range(1, len(acc)+1)\n",
    "print(len(acc)+1)\n",
    "print(epochs)\n",
    "#print(acc)\n",
    "\n",
    "plt.plot(epochs, acc, 'bo', label='Training acc')\n",
    "plt.plot(epochs, val_acc, 'b', label='Validation acc')\n",
    "plt.title('Training and validation accuracy')\n",
    "plt.legend()\n",
    "\n",
    "plt.figure()\n",
    "\n",
    "plt.plot(epochs, loss, 'bo', label='Training loss')\n",
    "plt.plot(epochs, val_loss, 'b', label='Validation loss')\n",
    "plt.title('Training and validation loss')\n",
    "plt.legend()\n",
    "\n",
    "plt.show()"
   ]
  },
  {
   "cell_type": "code",
   "execution_count": null,
   "metadata": {},
   "outputs": [],
   "source": []
  }
 ],
 "metadata": {
  "kernelspec": {
   "display_name": "Python 3",
   "language": "python",
   "name": "python3"
  },
  "language_info": {
   "codemirror_mode": {
    "name": "ipython",
    "version": 3
   },
   "file_extension": ".py",
   "mimetype": "text/x-python",
   "name": "python",
   "nbconvert_exporter": "python",
   "pygments_lexer": "ipython3",
   "version": "3.5.2"
  }
 },
 "nbformat": 4,
 "nbformat_minor": 2
}
